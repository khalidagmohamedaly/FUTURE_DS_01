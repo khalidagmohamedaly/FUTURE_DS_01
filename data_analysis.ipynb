# Notebook Jupyter - Analyse Complète E-commerce Sales Dashboard
# Future Interns - Task 1
# Copiez ce code dans Jupyter Notebook

# ============================================================
# CELL 1 : IMPORTS ET CONFIGURATION
# ============================================================

import pandas as pd
import numpy as np
import matplotlib.pyplot as plt
import seaborn as sns
from datetime import datetime
import warnings
warnings.filterwarnings('ignore')

# Configuration de l'affichage
plt.style.use('seaborn-v0_8-darkgrid')
sns.set_palette("husl")
pd.set_option('display.max_columns', None)
pd.set_option('display.max_rows', 100)

print("📊 Bibliothèques chargées avec succès!")
print(f"📅 Date d'analyse : {datetime.now().strftime('%Y-%m-%d %H:%M:%S')}")

# ============================================================
# CELL 2 : CHARGEMENT DES DONNÉES
# ============================================================

# Charger les données nettoyées
df = pd.read_csv('../data/data_cleaned.csv')

# Convertir Order Date en datetime
df['Order Date'] = pd.to_datetime(df['Order Date'])

print(f"✅ Données chargées : {df.shape[0]} lignes, {df.shape[1]} colonnes")
print("\n📋 Aperçu des données:")
df.head()

# ============================================================
# CELL 3 : VUE D'ENSEMBLE DES DONNÉES
# ============================================================

print("📊 INFORMATIONS GÉNÉRALES")
print("="*70)
df.info()

print("\n📈 STATISTIQUES DESCRIPTIVES")
print("="*70)
df.describe()

# ============================================================
# CELL 4 : KPIs PRINCIPAUX
# ============================================================

print("\n💎 KEY PERFORMANCE INDICATORS (KPIs)")
print("="*70)

total_revenue = df['Total Sales'].sum()
total_orders = len(df)
total_quantity = df['Quantity'].sum()
avg_order_value = df['Total Sales'].mean()
unique_products = df['Product'].nunique()
unique_customers = df['Customer ID'].nunique()

print(f"\n💰 Revenu Total: ${total_revenue:,.2f}")
print(f"📦 Nombre Total de Commandes: {total_orders:,}")
print(f"📊 Quantité Totale Vendue: {total_quantity:,}")
print(f"💵 Panier Moyen: ${avg_order_value:,.2f}")
print(f"🏷️  Produits Uniques: {unique_products:,}")
print(f"👥 Clients Uniques: {unique_customers:,}")

# ============================================================
# CELL 5 : TOP 10 PRODUITS LES PLUS VENDUS
# ============================================================

print("\n🏆 TOP 10 PRODUITS PAR QUANTITÉ")
print("="*70)

top_products_qty = df.groupby('Product')['Quantity'].sum().sort_values(ascending=False).head(10)
print(top_products_qty)

# Visualisation
plt.figure(figsize=(12, 6))
top_products_qty.plot(kind='barh', color='skyblue')
plt.title('Top 10 Produits les Plus Vendus (Quantité)', fontsize=16, fontweight='bold')
plt.xlabel('Quantité Vendue', fontsize=12)
plt.ylabel('Produit', fontsize=12)
plt.gca().invert_yaxis()
plt.tight_layout()
plt.show()

print("\n💰 TOP 10 PRODUITS PAR REVENU")
print("="*70)

top_products_revenue = df.groupby('Product')['Total Sales'].sum().sort_values(ascending=False).head(10)
print(top_products_revenue)

# Visualisation
plt.figure(figsize=(12, 6))
top_products_revenue.plot(kind='barh', color='lightcoral')
plt.title('Top 10 Produits par Revenu Généré', fontsize=16, fontweight='bold')
plt.xlabel('Revenu ($)', fontsize=12)
plt.ylabel('Produit', fontsize=12)
plt.gca().invert_yaxis()
plt.tight_layout()
plt.show()

# ============================================================
# CELL 6 : ANALYSE PAR CATÉGORIE
# ============================================================

print("\n🏷️  ANALYSE PAR CATÉGORIE")
print("="*70)

category_analysis = df.groupby('Category').agg({
    'Total Sales': 'sum',
    'Quantity': 'sum',
    'Order ID': 'count'
}).rename(columns={'Order ID': 'Number of Orders'})

category_analysis = category_analysis.sort_values('Total Sales', ascending=False)
print(category_analysis)

# Visualisation - Revenus par catégorie
fig, axes = plt.subplots(1, 2, figsize=(16, 6))

# Graphique 1: Revenus
category_analysis['Total Sales'].plot(kind='bar', ax=axes[0], color='teal')
axes[0].set_title('Revenus par Catégorie', fontsize=14, fontweight='bold')
axes[0].set_xlabel('Catégorie', fontsize=12)
axes[0].set_ylabel('Revenu ($)', fontsize=12)
axes[0].tick_params(axis='x', rotation=45)

# Graphique 2: Parts de marché (Pie chart)
axes[1].pie(category_analysis['Total Sales'], labels=category_analysis.index, 
            autopct='%1.1f%%', startangle=90)
axes[1].set_title('Part de Revenu par Catégorie', fontsize=14, fontweight='bold')

plt.tight_layout()
plt.show()

# ============================================================
# CELL 7 : TENDANCES TEMPORELLES
# ============================================================

print("\n📅 ANALYSE TEMPORELLE")
print("="*70)

# Revenus mensuels
monthly_sales = df.groupby(df['Order Date'].dt.to_period('M'))['Total Sales'].sum()
print("\n💰 Revenus Mensuels:")
print(monthly_sales)

# Visualisation
plt.figure(figsize=(14, 6))
monthly_sales_df = monthly_sales.reset_index()
monthly_sales_df['Order Date'] = monthly_sales_df['Order Date'].astype(str)
plt.plot(monthly_sales_df['Order Date'], monthly_sales_df['Total Sales'], 
         marker='o', linewidth=2, markersize=8, color='purple')
plt.title('Tendance des Ventes Mensuelles', fontsize=16, fontweight='bold')
plt.xlabel('Mois', fontsize=12)
plt.ylabel('Revenu ($)', fontsize=12)
plt.xticks(rotation=45)
plt.grid(True, alpha=0.3)
plt.tight_layout()
plt.show()

# Calcul du taux de croissance
monthly_sales_list = monthly_sales.tolist()
if len(monthly_sales_list) > 1:
    growth_rate = ((monthly_sales_list[-1] - monthly_sales_list[0]) / monthly_sales_list[0]) * 100
    print(f"\n📈 Taux de croissance global : {growth_rate:.2f}%")

# ============================================================
# CELL 8 : ANALYSE PAR JOUR DE LA SEMAINE
# ============================================================

print("\n📆 ANALYSE PAR JOUR DE LA SEMAINE")
print("="*70)

day_order = ['Monday', 'Tuesday', 'Wednesday', 'Thursday', 'Friday', 'Saturday', 'Sunday']
day_sales = df.groupby('Day of Week')['Total Sales'].sum().reindex(day_order)
print(day_sales)

# Visualisation
plt.figure(figsize=(12, 6))
day_sales.plot(kind='bar', color='orange')
plt.title('Ventes par Jour de la Semaine', fontsize=16, fontweight='bold')
plt.xlabel('Jour', fontsize=12)
plt.ylabel('Revenu ($)', fontsize=12)
plt.xticks(rotation=45)
plt.tight_layout()
plt.show()

# ============================================================
# CELL 9 : ANALYSE PAR RÉGION
# ============================================================

print("\n🌍 ANALYSE GÉOGRAPHIQUE")
print("="*70)

region_analysis = df.groupby('Region').agg({
    'Total Sales': 'sum',
    'Order ID': 'count',
    'Quantity': 'sum'
}).rename(columns={'Order ID': 'Orders'}).sort_values('Total Sales', ascending=False)

print(region_analysis)

# Visualisation
fig, axes = plt.subplots(1, 2, figsize=(16, 6))

# Graphique 1: Revenus par région
region_analysis['Total Sales'].plot(kind='bar', ax=axes[0], color='green')
axes[0].set_title('Revenus par Région', fontsize=14, fontweight='bold')
axes[0].set_xlabel('Région', fontsize=12)
axes[0].set_ylabel('Revenu ($)', fontsize=12)
axes[0].tick_params(axis='x', rotation=45)

# Graphique 2: Nombre de commandes par région
region_analysis['Orders'].plot(kind='bar', ax=axes[1], color='lightblue')
axes[1].set_title('Nombre de Commandes par Région', fontsize=14, fontweight='bold')
axes[1].set_xlabel('Région', fontsize=12)
axes[1].set_ylabel('Nombre de Commandes', fontsize=12)
axes[1].tick_params(axis='x', rotation=45)

plt.tight_layout()
plt.show()

# ============================================================
# CELL 10 : ANALYSE DE CORRÉLATION
# ============================================================

print("\n🔗 ANALYSE DE CORRÉLATION")
print("="*70)

# Sélectionner les colonnes numériques
numeric_cols = ['Quantity', 'Price', 'Total Sales']
correlation_matrix = df[numeric_cols].corr()

print(correlation_matrix)

# Visualisation
plt.figure(figsize=(8, 6))
sns.heatmap(correlation_matrix, annot=True, cmap='coolwarm', center=0, 
            square=True, linewidths=1)
plt.title('Matrice de Corrélation', fontsize=16, fontweight='bold')
plt.tight_layout()
plt.show()

# ============================================================
# CELL 11 : INSIGHTS ET RECOMMANDATIONS
# ============================================================

print("\n💡 INSIGHTS CLÉS ET RECOMMANDATIONS")
print("="*70)

# 1. Meilleur produit
best_product = top_products_revenue.index[0]
best_product_revenue = top_products_revenue.iloc[0]

# 2. Meilleure catégorie
best_category = category_analysis['Total Sales'].idxmax()
best_category_revenue = category_analysis['Total Sales'].max()

# 3. Meilleure région
best_region = region_analysis['Total Sales'].idxmax()
best_region_revenue = region_analysis['Total Sales'].max()

# 4. Meilleur jour
best_day = day_sales.idxmax()
best_day_revenue = day_sales.max()

print(f"\n🏆 PRODUIT CHAMPION:")
print(f"   {best_product} - ${best_product_revenue:,.2f}")

print(f"\n🏆 CATÉGORIE CHAMPION:")
print(f"   {best_category} - ${best_category_revenue:,.2f}")

print(f"\n🏆 RÉGION CHAMPION:")
print(f"   {best_region} - ${best_region_revenue:,.2f}")

print(f"\n🏆 MEILLEUR JOUR DE VENTE:")
print(f"   {best_day} - ${best_day_revenue:,.2f}")

print("\n📋 RECOMMANDATIONS STRATÉGIQUES:")
print(f"   1. Augmenter le stock de '{best_product}' (produit best-seller)")
print(f"   2. Investir dans la catégorie '{best_category}' (plus rentable)")
print(f"   3. Renforcer la présence dans la région '{best_region}'")
print(f"   4. Planifier des promotions le {best_day}")
print(f"   5. Analyser pourquoi certaines catégories sous-performent")

# ============================================================
# CELL 12 : EXPORT DES RÉSULTATS
# ============================================================

# Créer un rapport récapitulatif
summary_report = {
    'Métrique': [
        'Revenu Total',
        'Nombre de Commandes',
        'Panier Moyen',
        'Produits Uniques',
        'Clients Uniques',
        'Meilleur Produit',
        'Meilleure Catégorie',
        'Meilleure Région'
    ],
    'Valeur': [
        f"${total_revenue:,.2f}",
        f"{total_orders:,}",
        f"${avg_order_value:,.2f}",
        f"{unique_products:,}",
        f"{unique_customers:,}",
        best_product,
        best_category,
        best_region
    ]
}

summary_df = pd.DataFrame(summary_report)
summary_df.to_csv('../reports/summary_report.csv', index=False)

print("✅ Rapport récapitulatif exporté vers '../reports/summary_report.csv'")
print("\n🎉 ANALYSE COMPLÈTE TERMINÉE!")
print("="*70)
